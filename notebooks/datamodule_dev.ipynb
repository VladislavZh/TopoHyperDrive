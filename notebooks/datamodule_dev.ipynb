{
 "cells": [
  {
   "metadata": {
    "ExecuteTime": {
     "end_time": "2024-04-24T13:19:32.516710Z",
     "start_time": "2024-04-24T13:19:32.512684Z"
    }
   },
   "cell_type": "code",
   "source": [
    "import rootutils\n",
    "\n",
    "current_folder = globals()['_dh'][0]\n",
    "\n",
    "rootutils.setup_root(current_folder, indicator=\".project-root\", pythonpath=True)"
   ],
   "id": "447ce6cd56997559",
   "outputs": [
    {
     "data": {
      "text/plain": [
       "WindowsPath('C:/Users/vlad1/GitHub/TopoHyperDrive')"
      ]
     },
     "execution_count": 50,
     "metadata": {},
     "output_type": "execute_result"
    }
   ],
   "execution_count": 50
  },
  {
   "metadata": {},
   "cell_type": "markdown",
   "source": "# Test data loading",
   "id": "a94b318831da218f"
  },
  {
   "metadata": {
    "ExecuteTime": {
     "end_time": "2024-05-24T14:32:50.989337Z",
     "start_time": "2024-05-24T14:32:49.163217Z"
    }
   },
   "cell_type": "code",
   "source": [
    "from torchvision.datasets import CIFAR100\n",
    "from torchvision import transforms\n",
    "from torch.utils.data import random_split\n",
    "import torch"
   ],
   "id": "initial_id",
   "outputs": [],
   "execution_count": 1
  },
  {
   "metadata": {
    "ExecuteTime": {
     "end_time": "2024-05-24T14:32:52.132021Z",
     "start_time": "2024-05-24T14:32:50.990350Z"
    }
   },
   "cell_type": "code",
   "source": [
    "data_transforms = {\n",
    "    'train':\n",
    "    transforms.Compose([\n",
    "        transforms.RandomHorizontalFlip(p=0.5),\n",
    "        transforms.RandomRotation(30),\n",
    "        transforms.RandomResizedCrop(32),\n",
    "        transforms.ToTensor(),\n",
    "        transforms.Normalize((0.4914, 0.4822, 0.4465), (0.2023, 0.1994, 0.2010)),\n",
    "    ]),\n",
    "    'test':\n",
    "    transforms.Compose([\n",
    "        transforms.ToTensor(),\n",
    "        transforms.Normalize((0.4914, 0.4822, 0.4465), (0.2023, 0.1994, 0.2010))\n",
    "    ]),\n",
    "}\n",
    "\n",
    "train_data = CIFAR100(root='./data', train=True, download=True, transform=data_transforms['train'])\n",
    "val_test_data = CIFAR100(root='./data', train=False, download=True, transform=data_transforms['test'])\n",
    "val_data, test_data = random_split(\n",
    "    dataset=val_test_data,\n",
    "    lengths=[len(val_test_data) // 2, len(val_test_data) - len(val_test_data) // 2],\n",
    "    generator=torch.Generator().manual_seed(42),\n",
    ")"
   ],
   "id": "49e01dd14f8177b1",
   "outputs": [
    {
     "name": "stdout",
     "output_type": "stream",
     "text": [
      "Files already downloaded and verified\n",
      "Files already downloaded and verified\n"
     ]
    }
   ],
   "execution_count": 2
  },
  {
   "metadata": {
    "ExecuteTime": {
     "end_time": "2024-04-24T12:35:06.127277Z",
     "start_time": "2024-04-24T12:35:06.124235Z"
    }
   },
   "cell_type": "code",
   "source": "len(train_data)",
   "id": "a74d9efe548c77ce",
   "outputs": [
    {
     "data": {
      "text/plain": [
       "50000"
      ]
     },
     "execution_count": 34,
     "metadata": {},
     "output_type": "execute_result"
    }
   ],
   "execution_count": 34
  },
  {
   "metadata": {
    "ExecuteTime": {
     "end_time": "2024-04-24T12:35:06.308526Z",
     "start_time": "2024-04-24T12:35:06.304936Z"
    }
   },
   "cell_type": "code",
   "source": "len(val_data)",
   "id": "6ae62dceb981cd90",
   "outputs": [
    {
     "data": {
      "text/plain": [
       "5000"
      ]
     },
     "execution_count": 35,
     "metadata": {},
     "output_type": "execute_result"
    }
   ],
   "execution_count": 35
  },
  {
   "metadata": {
    "ExecuteTime": {
     "end_time": "2024-04-24T12:35:06.449957Z",
     "start_time": "2024-04-24T12:35:06.446897Z"
    }
   },
   "cell_type": "code",
   "source": "len(test_data)",
   "id": "4e897d7a17c03508",
   "outputs": [
    {
     "data": {
      "text/plain": [
       "5000"
      ]
     },
     "execution_count": 36,
     "metadata": {},
     "output_type": "execute_result"
    }
   ],
   "execution_count": 36
  },
  {
   "metadata": {},
   "cell_type": "markdown",
   "source": "# Test datamodule",
   "id": "43a592a2fc0073a9"
  },
  {
   "metadata": {
    "ExecuteTime": {
     "end_time": "2024-04-24T13:25:20.088945Z",
     "start_time": "2024-04-24T13:20:24.342455Z"
    }
   },
   "cell_type": "code",
   "source": [
    "from src.data.cifar_100_datamodule import CIFAR100Datamodule\n",
    "\n",
    "dm = CIFAR100Datamodule()\n",
    "\n",
    "dm.prepare_data()\n",
    "dm.setup()\n",
    "\n",
    "dataloader = dm.train_dataloader()"
   ],
   "id": "1b40fd1d395169bd",
   "outputs": [
    {
     "name": "stdout",
     "output_type": "stream",
     "text": [
      "Downloading https://www.cs.toronto.edu/~kriz/cifar-100-python.tar.gz to data/cifar-100-python.tar.gz\n"
     ]
    },
    {
     "name": "stderr",
     "output_type": "stream",
     "text": [
      "100%|██████████| 169001437/169001437 [04:50<00:00, 581153.48it/s] \n"
     ]
    },
    {
     "name": "stdout",
     "output_type": "stream",
     "text": [
      "Extracting data/cifar-100-python.tar.gz to data/\n",
      "Files already downloaded and verified\n"
     ]
    }
   ],
   "execution_count": 51
  },
  {
   "metadata": {
    "ExecuteTime": {
     "end_time": "2024-04-24T13:37:01.350480Z",
     "start_time": "2024-04-24T13:37:01.328791Z"
    }
   },
   "cell_type": "code",
   "source": [
    "for batch in dataloader:\n",
    "    print(batch[0].shape, batch[1].shape)\n",
    "    break"
   ],
   "id": "eac9099edc2af1fc",
   "outputs": [
    {
     "name": "stdout",
     "output_type": "stream",
     "text": [
      "torch.Size([64, 3, 32, 32]) torch.Size([64])\n"
     ]
    }
   ],
   "execution_count": 53
  },
  {
   "metadata": {},
   "cell_type": "code",
   "outputs": [],
   "execution_count": null,
   "source": "",
   "id": "e3856224da3f41c9"
  }
 ],
 "metadata": {
  "kernelspec": {
   "display_name": "Python 3",
   "language": "python",
   "name": "python3"
  },
  "language_info": {
   "codemirror_mode": {
    "name": "ipython",
    "version": 2
   },
   "file_extension": ".py",
   "mimetype": "text/x-python",
   "name": "python",
   "nbconvert_exporter": "python",
   "pygments_lexer": "ipython2",
   "version": "2.7.6"
  }
 },
 "nbformat": 4,
 "nbformat_minor": 5
}
