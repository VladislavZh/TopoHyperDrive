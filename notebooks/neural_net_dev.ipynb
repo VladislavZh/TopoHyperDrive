{
 "cells": [
  {
   "metadata": {},
   "cell_type": "markdown",
   "source": "# VGG-like architecture",
   "id": "3bc81543d498121e"
  },
  {
   "metadata": {
    "ExecuteTime": {
     "end_time": "2024-04-25T19:13:17.327853Z",
     "start_time": "2024-04-25T19:13:14.641193Z"
    }
   },
   "cell_type": "code",
   "source": [
    "import torch\n",
    "import torch.nn as nn"
   ],
   "id": "3bbfcb116e32ec49",
   "outputs": [],
   "execution_count": 1
  },
  {
   "metadata": {
    "ExecuteTime": {
     "end_time": "2024-04-25T19:13:26.485641Z",
     "start_time": "2024-04-25T19:13:26.470366Z"
    }
   },
   "cell_type": "code",
   "source": "mock_data = torch.randn(64, 3, 32, 32)",
   "id": "7e1cd4fd4b30c425",
   "outputs": [],
   "execution_count": 2
  },
  {
   "metadata": {
    "ExecuteTime": {
     "end_time": "2024-04-25T19:13:28.691667Z",
     "start_time": "2024-04-25T19:13:28.685703Z"
    }
   },
   "cell_type": "code",
   "source": [
    "# from https://jaketae.github.io/study/pytorch-vgg/\n",
    "\n",
    "class VGG(nn.Module):\n",
    "    def __init__(\n",
    "        self,\n",
    "        architecture,\n",
    "        in_channels=3, \n",
    "        in_height=224, \n",
    "        in_width=224, \n",
    "        num_hidden=4096,\n",
    "        num_classes=1000\n",
    "    ):\n",
    "        super(VGG, self).__init__()\n",
    "        self.in_channels = in_channels\n",
    "        self.in_width = in_width\n",
    "        self.in_height = in_height\n",
    "        self.num_hidden = num_hidden\n",
    "        self.num_classes = num_classes\n",
    "        self.convs = self.init_convs(architecture)\n",
    "        self.fcs = self.init_fcs(architecture)\n",
    "        \n",
    "    def forward(self, x):\n",
    "        x = self.convs(x)\n",
    "        x = x.reshape(x.size(0), -1)\n",
    "        x = self.fcs(x)\n",
    "        return x\n",
    "    \n",
    "    def init_fcs(self, architecture):\n",
    "        pool_count = architecture.count(\"M\")\n",
    "        factor = (2 ** pool_count)\n",
    "        if (self.in_height % factor) + (self.in_width % factor) != 0:\n",
    "            raise ValueError(\n",
    "                f\"`in_height` and `in_width` must be multiples of {factor}\"\n",
    "            )\n",
    "        out_height = self.in_height // factor\n",
    "        out_width = self.in_width // factor\n",
    "        last_out_channels = next(\n",
    "            x for x in architecture[::-1] if type(x) == int\n",
    "        )\n",
    "        return nn.Sequential(\n",
    "            nn.Linear(\n",
    "                last_out_channels * out_height * out_width, \n",
    "                self.num_hidden),\n",
    "            nn.ReLU(),\n",
    "            nn.Dropout(p=0.5),\n",
    "            nn.Linear(self.num_hidden, self.num_hidden),\n",
    "            nn.ReLU(),\n",
    "            nn.Dropout(p=0.5),\n",
    "            nn.Linear(self.num_hidden, self.num_classes)\n",
    "        )\n",
    "    \n",
    "    def init_convs(self, architecture):\n",
    "        layers = []\n",
    "        in_channels = self.in_channels\n",
    "        \n",
    "        for x in architecture:\n",
    "            if type(x) == int:\n",
    "                out_channels = x\n",
    "                layers.extend(\n",
    "                    [\n",
    "                        nn.Conv2d(\n",
    "                            in_channels=in_channels,\n",
    "                            out_channels=out_channels,\n",
    "                            kernel_size=(3, 3),\n",
    "                            stride=(1, 1),\n",
    "                            padding=(1, 1),\n",
    "                        ),\n",
    "                        nn.BatchNorm2d(out_channels),\n",
    "                        nn.ReLU(),\n",
    "                    ]\n",
    "                )\n",
    "                in_channels = x\n",
    "            else:\n",
    "                layers.append(\n",
    "                    nn.MaxPool2d(kernel_size=(2, 2), stride=(2, 2))\n",
    "                )\n",
    "\n",
    "        return nn.Sequential(*layers)"
   ],
   "id": "4e18e0beb744d8c5",
   "outputs": [],
   "execution_count": 3
  },
  {
   "metadata": {
    "ExecuteTime": {
     "end_time": "2024-04-25T19:14:15.079947Z",
     "start_time": "2024-04-25T19:14:15.076233Z"
    }
   },
   "cell_type": "code",
   "source": [
    "VGG_types = {\n",
    "    \"VGG11\": [64, \"M\", 128, \"M\", 256, 256, \"M\", 512, 512, \"M\", 512, 512, \"M\"],\n",
    "    \"VGG13\": [\n",
    "        64,\n",
    "        64,\n",
    "        \"M\",\n",
    "        128,\n",
    "        128,\n",
    "        \"M\",\n",
    "        256,\n",
    "        256,\n",
    "        \"M\",\n",
    "        512,\n",
    "        512,\n",
    "        \"M\",\n",
    "        512,\n",
    "        512,\n",
    "        \"M\",\n",
    "    ],\n",
    "    \"VGG16\": [\n",
    "        64,\n",
    "        64,\n",
    "        \"M\",\n",
    "        128,\n",
    "        128,\n",
    "        \"M\",\n",
    "        256,\n",
    "        256,\n",
    "        256,\n",
    "        \"M\",\n",
    "        512,\n",
    "        512,\n",
    "        512,\n",
    "        \"M\",\n",
    "        512,\n",
    "        512,\n",
    "        512,\n",
    "        \"M\",\n",
    "    ],\n",
    "    \"VGG19\": [\n",
    "        64,\n",
    "        64,\n",
    "        \"M\",\n",
    "        128,\n",
    "        128,\n",
    "        \"M\",\n",
    "        256,\n",
    "        256,\n",
    "        256,\n",
    "        256,\n",
    "        \"M\",\n",
    "        512,\n",
    "        512,\n",
    "        512,\n",
    "        512,\n",
    "        \"M\",\n",
    "        512,\n",
    "        512,\n",
    "        512,\n",
    "        512,\n",
    "        \"M\",\n",
    "    ],\n",
    "}"
   ],
   "id": "8ea3f478dbc3a6f",
   "outputs": [],
   "execution_count": 4
  },
  {
   "metadata": {
    "ExecuteTime": {
     "end_time": "2024-04-25T19:14:52.181860Z",
     "start_time": "2024-04-25T19:14:52.054810Z"
    }
   },
   "cell_type": "code",
   "source": "model = VGG(VGG_types[\"VGG11\"], in_channels=3, in_height=32, in_width=32, num_classes=100)",
   "id": "59589dc2bfcdec5c",
   "outputs": [],
   "execution_count": 8
  },
  {
   "metadata": {
    "ExecuteTime": {
     "end_time": "2024-04-25T19:14:52.427884Z",
     "start_time": "2024-04-25T19:14:52.329010Z"
    }
   },
   "cell_type": "code",
   "source": "model(mock_data).shape",
   "id": "a4957f65a5f50e2b",
   "outputs": [
    {
     "data": {
      "text/plain": [
       "torch.Size([64, 100])"
      ]
     },
     "execution_count": 9,
     "metadata": {},
     "output_type": "execute_result"
    }
   ],
   "execution_count": 9
  },
  {
   "metadata": {
    "ExecuteTime": {
     "end_time": "2024-04-25T19:22:56.718168Z",
     "start_time": "2024-04-25T19:22:56.710686Z"
    }
   },
   "cell_type": "code",
   "source": [
    "class MetaSearchVGGLike(nn.Module):\n",
    "    def __init__(\n",
    "        self,\n",
    "        in_channels=3, \n",
    "        in_height=32, \n",
    "        in_width=32, \n",
    "        num_hidden=4096,\n",
    "        num_classes=100,\n",
    "        block_1_nb_filter=64,\n",
    "        block_1_nb_layers=1,\n",
    "        block_2_nb_filter=128,\n",
    "        block_2_nb_layers=1,\n",
    "        block_3_nb_filter=256,\n",
    "        block_3_nb_layers=1,\n",
    "        block_4_nb_filter=512,\n",
    "        block_4_nb_layers=1,\n",
    "        block_5_nb_filter=512,\n",
    "        block_5_nb_layers=1,\n",
    "    ):\n",
    "        super(MetaSearchVGGLike, self).__init__()\n",
    "        \n",
    "        architecture = (\n",
    "            [block_1_nb_filter] * block_1_nb_layers + [\"M\"] +\n",
    "            [block_2_nb_filter] * block_2_nb_layers + [\"M\"] +\n",
    "            [block_3_nb_filter] * block_3_nb_layers + [\"M\"] +\n",
    "            [block_4_nb_filter] * block_4_nb_layers + [\"M\"] +\n",
    "            [block_5_nb_filter] * block_5_nb_layers\n",
    "        )\n",
    "        \n",
    "        self.in_channels = in_channels\n",
    "        self.in_width = in_width\n",
    "        self.in_height = in_height\n",
    "        self.num_hidden = num_hidden\n",
    "        self.num_classes = num_classes\n",
    "        self.convs = self.init_convs(architecture)\n",
    "        self.fcs = self.init_fcs(architecture)\n",
    "        \n",
    "    def forward(self, x):\n",
    "        x = self.convs(x)\n",
    "        x = x.reshape(x.size(0), -1)\n",
    "        x = self.fcs(x)\n",
    "        return x\n",
    "    \n",
    "    def init_fcs(self, architecture):\n",
    "        pool_count = architecture.count(\"M\")\n",
    "        factor = (2 ** pool_count)\n",
    "        if (self.in_height % factor) + (self.in_width % factor) != 0:\n",
    "            raise ValueError(\n",
    "                f\"`in_height` and `in_width` must be multiples of {factor}\"\n",
    "            )\n",
    "        out_height = self.in_height // factor\n",
    "        out_width = self.in_width // factor\n",
    "        last_out_channels = next(\n",
    "            x for x in architecture[::-1] if type(x) == int\n",
    "        )\n",
    "        return nn.Sequential(\n",
    "            nn.Linear(\n",
    "                last_out_channels * out_height * out_width, \n",
    "                self.num_hidden),\n",
    "            nn.ReLU(),\n",
    "            nn.Dropout(p=0.5),\n",
    "            nn.Linear(self.num_hidden, self.num_hidden),\n",
    "            nn.ReLU(),\n",
    "            nn.Dropout(p=0.5),\n",
    "            nn.Linear(self.num_hidden, self.num_classes)\n",
    "        )\n",
    "    \n",
    "    def init_convs(self, architecture):\n",
    "        layers = []\n",
    "        in_channels = self.in_channels\n",
    "        \n",
    "        for x in architecture:\n",
    "            if type(x) == int:\n",
    "                out_channels = x\n",
    "                layers.extend(\n",
    "                    [\n",
    "                        nn.Conv2d(\n",
    "                            in_channels=in_channels,\n",
    "                            out_channels=out_channels,\n",
    "                            kernel_size=(3, 3),\n",
    "                            stride=(1, 1),\n",
    "                            padding=(1, 1),\n",
    "                        ),\n",
    "                        nn.BatchNorm2d(out_channels),\n",
    "                        nn.ReLU(),\n",
    "                    ]\n",
    "                )\n",
    "                in_channels = x\n",
    "            else:\n",
    "                layers.append(\n",
    "                    nn.MaxPool2d(kernel_size=(2, 2), stride=(2, 2))\n",
    "                )\n",
    "\n",
    "        return nn.Sequential(*layers)"
   ],
   "id": "2f19aa2afc98a90a",
   "outputs": [],
   "execution_count": 10
  },
  {
   "metadata": {
    "ExecuteTime": {
     "end_time": "2024-04-25T19:23:08.810087Z",
     "start_time": "2024-04-25T19:23:08.708498Z"
    }
   },
   "cell_type": "code",
   "source": "model = MetaSearchVGG()",
   "id": "3b2ac25c9e07d82c",
   "outputs": [],
   "execution_count": 11
  },
  {
   "metadata": {
    "ExecuteTime": {
     "end_time": "2024-04-25T19:23:14.272180Z",
     "start_time": "2024-04-25T19:23:14.187644Z"
    }
   },
   "cell_type": "code",
   "source": "model(mock_data).shape",
   "id": "e0748834a2b857fb",
   "outputs": [
    {
     "data": {
      "text/plain": [
       "torch.Size([64, 100])"
      ]
     },
     "execution_count": 12,
     "metadata": {},
     "output_type": "execute_result"
    }
   ],
   "execution_count": 12
  },
  {
   "metadata": {},
   "cell_type": "code",
   "outputs": [],
   "execution_count": null,
   "source": "",
   "id": "bb828a07efc77e8b"
  }
 ],
 "metadata": {
  "kernelspec": {
   "display_name": "Python 3",
   "language": "python",
   "name": "python3"
  },
  "language_info": {
   "codemirror_mode": {
    "name": "ipython",
    "version": 2
   },
   "file_extension": ".py",
   "mimetype": "text/x-python",
   "name": "python",
   "nbconvert_exporter": "python",
   "pygments_lexer": "ipython2",
   "version": "2.7.6"
  }
 },
 "nbformat": 4,
 "nbformat_minor": 5
}
