{
 "cells": [
  {
   "cell_type": "code",
   "id": "initial_id",
   "metadata": {
    "collapsed": true,
    "ExecuteTime": {
     "end_time": "2024-05-23T18:02:22.841041Z",
     "start_time": "2024-05-23T18:02:22.835727Z"
    }
   },
   "source": [
    "import rootutils\n",
    "\n",
    "current_folder = globals()['_dh'][0]\n",
    "\n",
    "rootutils.setup_root(current_folder, indicator=\".project-root\", pythonpath=True)"
   ],
   "outputs": [
    {
     "data": {
      "text/plain": [
       "WindowsPath('C:/Users/vlad1/GitHub/TopoHyperDrive')"
      ]
     },
     "execution_count": 28,
     "metadata": {},
     "output_type": "execute_result"
    }
   ],
   "execution_count": 28
  },
  {
   "metadata": {
    "ExecuteTime": {
     "end_time": "2024-05-24T12:55:54.139562Z",
     "start_time": "2024-05-24T12:55:54.136004Z"
    }
   },
   "cell_type": "code",
   "source": [
    "experimets = {\n",
    "    \"TPESampler\": \"../logs/tpe_search/multiruns/2024-05-22_17-44-08\",\n",
    "    \"RandomSearch\": \"../logs/random_search/multiruns/2024-05-22_14-40-01\",\n",
    "    \"One-to-Random\": \"../logs/one_to_random_single_objective_search/multiruns/2024-05-23_21-40-16\",\n",
    "    \"One-to-Random-Multi\": \"../logs/one_to_random_multi_objective_search/multiruns/2024-05-24_10-40-54\",\n",
    "    \"PCA One-to-Random-Multi\": \"../logs/pca_one_to_random_multi_objective_search/multiruns/2024-05-24_15-32-36\",\n",
    "}"
   ],
   "id": "e49afa4834a2c58c",
   "outputs": [],
   "execution_count": 101
  },
  {
   "metadata": {
    "ExecuteTime": {
     "end_time": "2024-05-24T16:15:03.040110Z",
     "start_time": "2024-05-24T16:15:03.028926Z"
    }
   },
   "cell_type": "code",
   "source": [
    "import os\n",
    "import pandas as pd\n",
    "import matplotlib.pyplot as plt\n",
    "from matplotlib import ticker\n",
    "\n",
    "\n",
    "def save_formatted(fig, ax, settings, save_path, xlabel=None, ylabel=None, title=None):\n",
    "    \"\"\"\n",
    "    Saves (fig, ax) object to save_path with settigns json file\n",
    "    \"\"\"\n",
    "    # labels and title\n",
    "    if settings[\"show labels\"]:\n",
    "        ax.set_xlabel(xlabel)\n",
    "        ax.set_ylabel(ylabel)\n",
    "    else:\n",
    "        ax.set_xlabel(None)\n",
    "        ax.set_ylabel(None)\n",
    "    if settings[\"show title\"]:\n",
    "        plt.title(title)\n",
    "    if settings[\"font size\"]:\n",
    "        plt.rcParams.update({'font.size': settings[\"font size\"]})\n",
    "    #\n",
    "    ax.tick_params(\n",
    "        axis=\"both\", which=\"major\", labelsize=settings[\"tick labels font size\"]\n",
    "    )\n",
    "    ax.tick_params(\n",
    "        axis=\"both\", which=\"minor\", labelsize=2 * settings[\"tick labels font size\"] // 3\n",
    "    )\n",
    "    # set height and width\n",
    "    fig.set_figheight(settings[\"fig height\"])\n",
    "    fig.set_figwidth(settings[\"fig width\"])\n",
    "    # set aspect ratio\n",
    "    x0, x1 = ax.get_xlim()\n",
    "    y0, y1 = ax.get_ylim()\n",
    "    ax.set_aspect(settings[\"aspect ratio\"] * abs((x1 - x0) / (y1 - y0)))\n",
    "    # save\n",
    "    plt.savefig(save_path, dpi=settings[\"dpi\"], bbox_inches=\"tight\")\n",
    "    plt.clf()\n",
    "\n",
    "\n",
    "def extract_best_val_accuracy(path: str, rtd: bool = False):\n",
    "    experiments = sorted(filter(lambda x: x.isdigit(), os.listdir(path)), key=lambda x: int(x))\n",
    "    \n",
    "    best_val_accuracies = []\n",
    "    test_accuracies = []\n",
    "    steps = [0]\n",
    "    rtds = []\n",
    "    for experiment in experiments:\n",
    "        try:\n",
    "            metrics = pd.read_csv(os.path.join(path, experiment, \"csv/version_0/metrics.csv\"))\n",
    "            new_step = steps[-1] + metrics[\"step\"].iloc[-1]//1000\n",
    "            metrics_val = metrics[\"val/acc_best\"]\n",
    "            metrics_test = metrics[\"test/accuracy\"]\n",
    "            best_val_accuracies.append(metrics_val.loc[metrics_val.last_valid_index()])\n",
    "            test_accuracies.append(metrics_test.loc[metrics_test.last_valid_index()])\n",
    "            steps.append(new_step)\n",
    "            if rtd:\n",
    "                rtds.append(metrics[\"RTD_score\"].iloc[-1])\n",
    "        except:\n",
    "            continue\n",
    "        \n",
    "    current_best = -1\n",
    "    current_val = -1\n",
    "    current_test = -1\n",
    "    hp_search_accuracies = []\n",
    "    hp_search_test_accuracies = []\n",
    "    if not rtd:\n",
    "        for best_val_accuracy, test_accuracy in zip(best_val_accuracies, test_accuracies):\n",
    "            if best_val_accuracy > current_best:\n",
    "                current_best = best_val_accuracy\n",
    "                current_test = test_accuracy\n",
    "            hp_search_accuracies.append(current_best)\n",
    "            hp_search_test_accuracies.append(current_test)\n",
    "    else:\n",
    "        for rtd_val, best_val_accuracy, test_accuracy in zip(rtds, best_val_accuracies, test_accuracies):\n",
    "            if rtd_val > current_best:\n",
    "                current_best = rtd_val\n",
    "                current_val = best_val_accuracy\n",
    "                current_test = test_accuracy\n",
    "            hp_search_accuracies.append(current_val)\n",
    "            hp_search_test_accuracies.append(current_test)\n",
    "    \n",
    "    return steps[1:], hp_search_accuracies, hp_search_test_accuracies\n",
    "\n",
    "def plot_experiments(\n",
    "    experiments: dict,\n",
    "    settings: dict,\n",
    "    stage: str\n",
    "):\n",
    "    fig, axs = plt.subplots()\n",
    "    formatter = ticker.ScalarFormatter(useMathText=True)\n",
    "    formatter.set_scientific(True)\n",
    "    formatter.set_powerlimits((-2, 2))\n",
    "    axs.yaxis.set_major_formatter(formatter)\n",
    "    \n",
    "    for experiment in experiments:\n",
    "        steps, hp_search_accuracies, hp_search_test_accuracies = extract_best_val_accuracy(experimets[experiment], experiment==\"One-to-Random\")\n",
    "        if stage == \"val\":\n",
    "            axs.plot(steps, hp_search_accuracies, label=experiment)\n",
    "        else:\n",
    "            axs.plot(steps, hp_search_test_accuracies, label=experiment)\n",
    "    axs.legend()\n",
    "    save_formatted(\n",
    "        fig,\n",
    "        axs,\n",
    "        settings,\n",
    "        save_path=f\"../paper/accuracy_{stage}.pdf\",\n",
    "        xlabel=\"Steps, $10^3$\",\n",
    "        ylabel=\"Accuracy\",\n",
    "        title=\"Best validation accuracy\" if stage == \"val\" else \"Test accuracy\",\n",
    "    )\n",
    "    "
   ],
   "id": "1cddf1c59bc319c2",
   "outputs": [],
   "execution_count": 112
  },
  {
   "metadata": {
    "ExecuteTime": {
     "end_time": "2024-05-24T16:15:03.494772Z",
     "start_time": "2024-05-24T16:15:03.492428Z"
    }
   },
   "cell_type": "code",
   "source": [
    "settings = {\n",
    "    \"aspect ratio\": 1.00,\n",
    "    \"dpi\": 400,\n",
    "    \"fig height\": 7,\n",
    "    \"fig width\": 5,\n",
    "    \"tick labels font size\": 15,\n",
    "    \"style\": \"classic\",\n",
    "    \"show labels\": True,\n",
    "    \"show title\": True,\n",
    "    \"font size\": 15\n",
    "}"
   ],
   "id": "45e3b5e926b9c5fd",
   "outputs": [],
   "execution_count": 113
  },
  {
   "metadata": {
    "ExecuteTime": {
     "end_time": "2024-05-24T16:15:04.038916Z",
     "start_time": "2024-05-24T16:15:03.730611Z"
    }
   },
   "cell_type": "code",
   "source": "plot_experiments(experimets, settings, \"val\")",
   "id": "2607ecf6bf908aad",
   "outputs": [
    {
     "data": {
      "text/plain": [
       "<Figure size 500x700 with 0 Axes>"
      ]
     },
     "metadata": {},
     "output_type": "display_data"
    }
   ],
   "execution_count": 114
  },
  {
   "metadata": {
    "ExecuteTime": {
     "end_time": "2024-05-24T16:15:04.605533Z",
     "start_time": "2024-05-24T16:15:04.318241Z"
    }
   },
   "cell_type": "code",
   "source": "plot_experiments(experimets, settings, \"test\")",
   "id": "39ff3df90f30c3ae",
   "outputs": [
    {
     "data": {
      "text/plain": [
       "<Figure size 500x700 with 0 Axes>"
      ]
     },
     "metadata": {},
     "output_type": "display_data"
    }
   ],
   "execution_count": 115
  },
  {
   "metadata": {},
   "cell_type": "code",
   "outputs": [],
   "execution_count": null,
   "source": "from hydra_plugins.hydra_optuna_sweeper.optuna_sweeper import OptunaSweeper",
   "id": "353ae19b4869f957"
  }
 ],
 "metadata": {
  "kernelspec": {
   "display_name": "Python 3",
   "language": "python",
   "name": "python3"
  },
  "language_info": {
   "codemirror_mode": {
    "name": "ipython",
    "version": 2
   },
   "file_extension": ".py",
   "mimetype": "text/x-python",
   "name": "python",
   "nbconvert_exporter": "python",
   "pygments_lexer": "ipython2",
   "version": "2.7.6"
  }
 },
 "nbformat": 4,
 "nbformat_minor": 5
}
